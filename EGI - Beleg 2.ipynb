{
 "cells": [
  {
   "cell_type": "markdown",
   "id": "87a9ac7a",
   "metadata": {},
   "source": [
    "## Beleg 2: Vererbung in Python\n",
    "\n",
    "**Name:**\n",
    "<br>\n",
    "**Matrikelnr.:**\n",
    "\n",
    "## Bearbeitungszeitraum\n",
    "**Bearbeitungsbeginn:** Do, 18.11.2021\n",
    "<br>\n",
    "**Abgabe:** Mi, 05.01.2022, 23.55 Uhr\n",
    "\n",
    "**Hinweise zur Abgabe**\n",
    "\n",
    "- Füllen Sie unbedingt die erste Zelle unterhalb der Überschrift mit Name und Matr.-Nr. aus!\n",
    "- Ergänzen Sie den Dateinamen des Notebooks vor der Abgabe um `_` und Ihre Matr.-Nr. (`Uebung 2 - VererbungInPython_s0500000.ipynb`)\n",
    "- Entfernen Sie vor dem Upload alle Ausgaben aus dem Notebook!\n",
    "- Die über Moodle bereitgestellten zusätzlichen Dateien müssen nicht abgegeben werden.\n",
    "\n",
    "**Hinweise zur Benotung**\n",
    "\n",
    "- Mit dieser Aufgabe können 30 von den insgesamt 100 Punkten der Gesamtbewertung für die Übung erreicht werden.\n",
    "\n",
    "\n",
    "### Viel Erfolg!"
   ]
  },
  {
   "cell_type": "markdown",
   "id": "96f3e649",
   "metadata": {},
   "source": [
    "### Aufgabe 1: Klassendesign\n",
    "\n",
    "In der ersten Teilaufgabe werden zunächst alle Klassen angelegt.\n",
    "\n",
    "**Aufgabe 1.1**: Legen Sie eine Klasse `Patient` an. Diese soll über die Felder `surname: string`, `lastname: string` und `birthdate: datetime` verfügen.\n"
   ]
  },
  {
   "cell_type": "code",
   "execution_count": null,
   "id": "af216748",
   "metadata": {},
   "outputs": [],
   "source": [
    "import datetime\n",
    "import numpy as np\n",
    "import pydicom\n",
    "import pydicom.dataset\n",
    "# 1.1\n",
    "class Patient:\n",
    "    def __init__(self, surname:str, lastname:str, birthdate:datetime):\n",
    "        self.surname = surname\n",
    "        self.lastname= lastname\n",
    "        self.birthdate = birthdate\n",
    "\n"
   ]
  },
  {
   "cell_type": "markdown",
   "id": "d51c81fe",
   "metadata": {},
   "source": [
    "Aufgabe 1.2: Legen Sie eine Klasse `Report` an. Diese soll über die Felder `date: datetime`, `physician: string` und `text: string` verfügen.\n",
    "\n",
    "Von dieser Klasse als Elternklasse leiten Sie die beiden Klassen `CTReport` und `PathologyReport` ab. \n",
    "\n",
    "`CTReport` soll über das Feld `dicomData: pydicom.dataset.DataSet` verfügen und zwei Methoden zum Zugriff auf die DICOM Daten bereitstellen. Zum einen soll ausgelesen werden können, wieviele Einzelbilder im DICOM Datensatz sind und zum anderen soll das entsprechende Einzelbild an einer als Parameter übergebenen Position zurückgegeben werden. Dieses soll OpenCV-kompatibel sein und sich im 8-Bit Wertebereich befinden.\n",
    "\n",
    "`PathologyReport` soll über das Feld `wholeSlideImage: np.array` verfügen und zwei Methoden zum Zugriff auf das Whole Slide Image bereitstellen. Zum einen soll ausgelesen werden können, wie groß das Bild ist und zum anderen soll eine als Parameter übergebene Teilregion des Bildes zurückgegeben werden (das Bild muss also \"zugeschnitten\" werden). Diese Teilregion soll OpenCV-kompatibel sein und sich im 8-Bit Wertebereich befinden.\n"
   ]
  },
  {
   "cell_type": "code",
   "execution_count": null,
   "id": "87561f27",
   "metadata": {},
   "outputs": [],
   "source": [
    "# 1.2.1 Report\n",
    "class Report:\n",
    "    def __init__(self, date:datetime, physician:str, text:str):\n",
    "        self.date = date\n",
    "        self.physician = physician\n",
    "        self.text = text"
   ]
  },
  {
   "cell_type": "code",
   "execution_count": null,
   "id": "c73b9d1c",
   "metadata": {},
   "outputs": [],
   "source": [
    "# 1.2.2 CTReport\n",
    "from pydicom.data import get_testdata_file\n",
    "class CTReport(Report):\n",
    "    def __init__(self, dicomData:pydicom.dataset.Dataset, date:datetime, physician:str, text:str):\n",
    "        super().__init__(date, physician, text)\n",
    "        self.dicomData = dicomData\n",
    "\n",
    "    def countNumPics():\n",
    "        path = get_testdata_file(\"CT_small.dcm\")\n",
    "        ds = pydicom.dcmread(path)\n",
    "        frames = ds.PixelData\n",
    "        return frames\n",
    "\n",
    "    def returnPicByPosition(self,position:int):\n",
    "        return 55\n",
    "    \n",
    "    print(countNumPics())\n"
   ]
  },
  {
   "cell_type": "code",
   "execution_count": null,
   "id": "48caea52",
   "metadata": {},
   "outputs": [],
   "source": [
    "# 1.2.3 PathologyReport\n",
    "\n",
    "class PathologyReport(Report):\n",
    "    def __init__(self, wholeSlideImage:np.array, date:datetime, physician:str, text:str):\n",
    "        super().__init__(date, physician, text)\n",
    "        self.wholeSlideImage = wholeSlideImage\n",
    "\n",
    "    def pictureSize(self):\n",
    "        return len(self.wholeSlideImage), len(self.wholeSlideImage[1])\n",
    "    \n",
    "    def cutPictureRegion(self):\n",
    "        ## crop using the positions\n",
    "        return 5 ## should get a parameter and return an array(?), kasari "
   ]
  },
  {
   "cell_type": "markdown",
   "id": "736228ac",
   "metadata": {},
   "source": [
    "**Aufgabe 1.3**: Legen Sie eine Klasse `Case` an. Diese soll über die Felder `patient: Patient`, `admissiondate: datetime` und `reports: Report[]` verfügen."
   ]
  },
  {
   "cell_type": "code",
   "execution_count": null,
   "id": "fe080e90",
   "metadata": {},
   "outputs": [],
   "source": [
    "# 1.3\n",
    "class Case:\n",
    "    def __init__(self, patient:Patient, admissiondate:datetime, reports: type[Report]):\n",
    "        self.patient = patient\n",
    "        self.admissiondate=admissiondate\n",
    "        self.reports = reports\n"
   ]
  },
  {
   "cell_type": "markdown",
   "id": "9eb34807",
   "metadata": {},
   "source": [
    "### Aufgabe 2: Instanziierung und Nutzung der Methoden\n",
    "\n",
    "Nun sollen die zuvor angelegten Klassen konkret genutzt werden. Hierzu werden verschiedene Instanzen angelegt, miteinander verknüpft und schließlich die implementierten Methoden verwendet, um Informationen zu extrahieren. \n",
    "\n",
    "**Aufgabe 2.1**: Erzeugen Sie zwei Instanzen der Klasse `Patient`. Falls Sie hierzu Eingebungen brauchen, können Sie die folgenden Beispiele nutzen:\n",
    "\n",
    "1. Ravza Erekul, geb. am 17.4.1987\n",
    "2. Helge Puczynski, geb. am 4.12.1972"
   ]
  },
  {
   "cell_type": "code",
   "execution_count": null,
   "id": "e8d02ce7",
   "metadata": {
    "scrolled": false
   },
   "outputs": [],
   "source": [
    "# 2.1.1\n",
    "patient1 = Patient(surname=\"Ravza\", lastname=\"Erekul\", birthdate=datetime.date(1987,4,17))\n"
   ]
  },
  {
   "cell_type": "code",
   "execution_count": null,
   "id": "9ffcda23",
   "metadata": {},
   "outputs": [],
   "source": [
    "# 2.1.2\n",
    "patient2 = Patient(surname=\"Helge\", lastname=\"Puczynski\", birthdate=datetime.date(1972,12,4))"
   ]
  },
  {
   "cell_type": "markdown",
   "id": "867cdd92",
   "metadata": {},
   "source": [
    "**Aufgabe 2.2**: Erzeugen sie je eine Instanz der Klassen `Report`, `CTReport` und `PathologyReport`. Als Name der Ärztin können Sie bspw. `Birgit Rosenberg` nehmen, das Datum kann einfach das aktuelle Datum des Tages sein, zu dem Sie die Aufgabe bearbeiten. Als Text nutzen Sie folgende Daten:\n",
    "\n",
    "- `Report`: \"Ohne Befund\"\n",
    "- `CTReport`: \"Schädelbasisbruch\"\n",
    "- `PathologyReport`: \"Invasives Ductales Karzinom\"\n",
    "\n",
    "Für das Feld `dicomData` nutzen Sie den CT Datensatz aus dem letzten Beleg, für das Feld `wholeSlideImage`nehmen Sie die gleichnamige Datei aus Moodle.\n"
   ]
  },
  {
   "cell_type": "code",
   "execution_count": null,
   "id": "e6687a95",
   "metadata": {},
   "outputs": [],
   "source": [
    "# 2.2.1\n",
    "report1 = Report(date = datetime.date.today, physician=\"Birgit Rosenberg\", text = \"Ohne Befund\")"
   ]
  },
  {
   "cell_type": "code",
   "execution_count": null,
   "id": "ea7dcff2",
   "metadata": {},
   "outputs": [],
   "source": [
    "# 2.2.2\n",
    "#ctreport1 = CTReport(date = datetime.date.today, physician=\"Birgit Rosenberg\", dicomData=None, text=\"Schädelbasisbruch\")\n",
    "## download and put the dicomdata file here and ------------------------------>"
   ]
  },
  {
   "cell_type": "code",
   "execution_count": null,
   "id": "fbbea954",
   "metadata": {},
   "outputs": [],
   "source": [
    "# 2.2.3\n",
    "imgAsNpArr = np.asarray(Image.open('./wholeSlideImage.png'))\n",
    "pathreport1 = PathologyReport(wholeSlideImage= imgAsNpArr, date=datetime.date.today, physician=\"Birgit Rosenberg\", text=\"Invasives Ductales Karzinom\")\n",
    "print(pathreport1.text)\n",
    "\n",
    "print(f\"size of image = {pathreport1.pictureSize()}\")\n",
    "## -------------------------------------> Need image"
   ]
  },
  {
   "cell_type": "markdown",
   "id": "cd47e6af",
   "metadata": {},
   "source": [
    "**Aufgabe 2.3**: Erzeugen Sie für beide Patient*innen je eine Instanz der Klasse `Case`. Einer der beiden Fälle bekommt den Report \"ohne Befund\" mit dem Datum 1.4.2005 sowie den Report \"Invasives Ductales Karzinom\" mit dem Datum 14.11.2021. Der andere Fall erhält den Report mit dem Schädelbasisbruch."
   ]
  },
  {
   "cell_type": "code",
   "execution_count": null,
   "id": "7ae7c8b8",
   "metadata": {},
   "outputs": [],
   "source": [
    "# 2.3.1\n",
    "## mathiko correct garya cha bhane yaha pani problem huna naparni ho"
   ]
  },
  {
   "cell_type": "code",
   "execution_count": null,
   "id": "142ab02c",
   "metadata": {},
   "outputs": [],
   "source": [
    "# 2.3.2"
   ]
  },
  {
   "cell_type": "markdown",
   "id": "a1387a64",
   "metadata": {},
   "source": [
    "**Aufgabe 2.4**: Iterieren Sie durch alle Befunde aller Fälle und geben Sie dabei jeweils den Patient*innennamen, den Befundtext sowie das Befunddatum aus. Sollte es sich um einen `CTReport` handeln, so geben Sie das erste, mittlere und letzte Bild in CT Stack aus, beim `PathologyReport` geben Sie folgende Teilregion des Whole Slide Image aus (Format ist x, y, Breite, Höhe, wobei sich x und y auf die obere linke Ecke beziehen): 1100, 1900, 400, 400"
   ]
  },
  {
   "cell_type": "code",
   "execution_count": null,
   "id": "ca7c55a0",
   "metadata": {},
   "outputs": [],
   "source": [
    "# 2.4"
   ]
  },
  {
   "cell_type": "code",
   "execution_count": null,
   "id": "ec5a56df",
   "metadata": {},
   "outputs": [],
   "source": []
  }
 ],
 "metadata": {
  "kernelspec": {
   "display_name": "Python 3 (ipykernel)",
   "language": "python",
   "name": "python3"
  },
  "language_info": {
   "codemirror_mode": {
    "name": "ipython",
    "version": 3
   },
   "file_extension": ".py",
   "mimetype": "text/x-python",
   "name": "python",
   "nbconvert_exporter": "python",
   "pygments_lexer": "ipython3",
   "version": "3.9.9"
  }
 },
 "nbformat": 4,
 "nbformat_minor": 5
}
