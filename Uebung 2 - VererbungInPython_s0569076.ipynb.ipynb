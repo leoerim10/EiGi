{
 "cells": [
  {
   "cell_type": "markdown",
   "id": "87a9ac7a",
   "metadata": {},
   "source": [
    "## Beleg 2: Vererbung in Python\n",
    "\n",
    "**Name:** Sameer Dhimal\n",
    "<br>\n",
    "**Matrikelnr.:** s0569076\n",
    "\n",
    "## Bearbeitungszeitraum\n",
    "**Bearbeitungsbeginn:** Do, 18.11.2021\n",
    "<br>\n",
    "**Abgabe:** Mi, 05.01.2022, 23.55 Uhr\n",
    "\n",
    "**Hinweise zur Abgabe**\n",
    "\n",
    "- Füllen Sie unbedingt die erste Zelle unterhalb der Überschrift mit Name und Matr.-Nr. aus!\n",
    "- Ergänzen Sie den Dateinamen des Notebooks vor der Abgabe um `_` und Ihre Matr.-Nr. (`Uebung 2 - VererbungInPython_s0500000.ipynb`)\n",
    "- Entfernen Sie vor dem Upload alle Ausgaben aus dem Notebook!\n",
    "- Die über Moodle bereitgestellten zusätzlichen Dateien müssen nicht abgegeben werden.\n",
    "\n",
    "**Hinweise zur Benotung**\n",
    "\n",
    "- Mit dieser Aufgabe können 30 von den insgesamt 100 Punkten der Gesamtbewertung für die Übung erreicht werden.\n",
    "\n",
    "\n",
    "### Viel Erfolg!"
   ]
  },
  {
   "cell_type": "markdown",
   "id": "96f3e649",
   "metadata": {},
   "source": [
    "### Aufgabe 1: Klassendesign\n",
    "\n",
    "In der ersten Teilaufgabe werden zunächst alle Klassen angelegt.\n",
    "\n",
    "**Aufgabe 1.1**: Legen Sie eine Klasse `Patient` an. Diese soll über die Felder `surname: string`, `lastname: string` und `birthdate: datetime` verfügen.\n"
   ]
  },
  {
   "cell_type": "code",
   "execution_count": 1,
   "id": "af216748",
   "metadata": {},
   "outputs": [
    {
     "data": {
      "text/plain": [
       "'     def printname(self):\\n        print(self.surname, self.lastname, self.birthdate)\\n\\nx = Patient(\"Max\", \"Mueller\", datetime.date.today())\\nx.printname()   '"
      ]
     },
     "execution_count": 1,
     "metadata": {},
     "output_type": "execute_result"
    }
   ],
   "source": [
    "import datetime\n",
    "class Patient:\n",
    "    def __init__(self, surname, lastname, birthdate):\n",
    "        self.surname = surname\n",
    "        self.lastname = lastname\n",
    "        self.birthdate = birthdate\n",
    "\n",
    "\"\"\"     def printname(self):\n",
    "        print(self.surname, self.lastname, self.birthdate)\n",
    "\n",
    "x = Patient(\"Max\", \"Mueller\", datetime.date.today())\n",
    "x.printname()   \"\"\""
   ]
  },
  {
   "cell_type": "markdown",
   "id": "d51c81fe",
   "metadata": {},
   "source": [
    "Aufgabe 1.2: Legen Sie eine Klasse `Report` an. Diese soll über die Felder `date: datetime`, `physician: string` und `text: string` verfügen.\n",
    "\n",
    "Von dieser Klasse als Elternklasse leiten Sie die beiden Klassen `CTReport` und `PathologyReport` ab. \n",
    "\n",
    "`CTReport` soll über das Feld `dicomData: pydicom.dataset.DataSet` verfügen und zwei Methoden zum Zugriff auf die DICOM Daten bereitstellen. Zum einen soll ausgelesen werden können, wieviele Einzelbilder im DICOM Datensatz sind und zum anderen soll das entsprechende Einzelbild an einer als Parameter übergebenen Position zurückgegeben werden. Dieses soll OpenCV-kompatibel sein und sich im 8-Bit Wertebereich befinden.\n",
    "\n",
    "`PathologyReport` soll über das Feld `wholeSlideImage: np.array` verfügen und zwei Methoden zum Zugriff auf das Whole Slide Image bereitstellen. Zum einen soll ausgelesen werden können, wie groß das Bild ist und zum anderen soll eine als Parameter übergebene Teilregion des Bildes zurückgegeben werden (das Bild muss also \"zugeschnitten\" werden). Diese Teilregion soll OpenCV-kompatibel sein und sich im 8-Bit Wertebereich befinden.\n"
   ]
  },
  {
   "cell_type": "code",
   "execution_count": 2,
   "id": "87561f27",
   "metadata": {},
   "outputs": [],
   "source": [
    "class Report:\n",
    "    def __init__(self, date, physician, text):\n",
    "        self.date = date\n",
    "        self.physician = physician\n",
    "        self.text = text\n",
    "    "
   ]
  },
  {
   "cell_type": "code",
   "execution_count": 14,
   "id": "c73b9d1c",
   "metadata": {},
   "outputs": [],
   "source": [
    "import pydicom\n",
    "class CTReport(Report):\n",
    "    def __init__(self, dicomData):\n",
    "        self.dicomData = dicomData\n",
    "\n",
    "    dicomData = pydicom.Dataset \n",
    "    \n",
    "    def readDataset():\n",
    "      file =  pydicom.dcmread(pydicom.Dataset)\n",
    "      frames = file.PixelData\n",
    "      print(frames)\n",
    "\n",
    "    "
   ]
  },
  {
   "cell_type": "code",
   "execution_count": 4,
   "id": "0efc582d",
   "metadata": {},
   "outputs": [],
   "source": [
    "class PathologyReport(Report):\n",
    "    def __init__(self, wholeSlideImage):\n",
    "        self.wholeSlideImage = wholeSlideImage"
   ]
  },
  {
   "cell_type": "markdown",
   "id": "736228ac",
   "metadata": {},
   "source": [
    "**Aufgabe 1.3**: Legen Sie eine Klasse `Case` an. Diese soll über die Felder `patient: Patient`, `admissiondate: datetime` und `reports: Report[]` verfügen."
   ]
  },
  {
   "cell_type": "code",
   "execution_count": 5,
   "id": "fe080e90",
   "metadata": {},
   "outputs": [],
   "source": [
    "class Case:\n",
    "    def __init__(self, patient, admissiondate, reports):\n",
    "        self.patient = patient\n",
    "        self.admissiondate = admissiondate\n",
    "        self.reports = reports"
   ]
  },
  {
   "cell_type": "markdown",
   "id": "9eb34807",
   "metadata": {},
   "source": [
    "### Aufgabe 2: Instanziierung und Nutzung der Methoden\n",
    "\n",
    "Nun sollen die zuvor angelegten Klassen konkret genutzt werden. Hierzu werden verschiedene Instanzen angelegt, miteinander verknüpft und schließlich die implementierten Methoden verwendet, um Informationen zu extrahieren. \n",
    "\n",
    "**Aufgabe 2.1**: Erzeugen Sie zwei Instanzen der Klasse `Patient`. Falls Sie hierzu Eingebungen brauchen, können Sie die folgenden Beispiele nutzen:\n",
    "\n",
    "1. Ravza Erekul, geb. am 17.4.1987\n",
    "2. Helge Puczynski, geb. am 4.12.1972"
   ]
  },
  {
   "cell_type": "code",
   "execution_count": 6,
   "id": "e8d02ce7",
   "metadata": {
    "scrolled": false
   },
   "outputs": [],
   "source": [
    "# 2.1.1"
   ]
  },
  {
   "cell_type": "code",
   "execution_count": 7,
   "id": "9ffcda23",
   "metadata": {},
   "outputs": [],
   "source": [
    "# 2.1.2"
   ]
  },
  {
   "cell_type": "markdown",
   "id": "867cdd92",
   "metadata": {},
   "source": [
    "**Aufgabe 2.2**: Erzeugen sie je eine Instanz der Klassen `Report`, `CTReport` und `PathologyReport`. Als Name der Ärztin können Sie bspw. `Birgit Rosenberg` nehmen, das Datum kann einfach das aktuelle Datum des Tages sein, zu dem Sie die Aufgabe bearbeiten. Als Text nutzen Sie folgende Daten:\n",
    "\n",
    "- `Report`: \"Ohne Befund\"\n",
    "- `CTReport`: \"Schädelbasisbruch\"\n",
    "- `PathologyReport`: \"Invasives Ductales Karzinom\"\n",
    "\n",
    "Für das Feld `dicomData` nutzen Sie den CT Datensatz aus dem letzten Beleg, für das Feld `wholeSlideImage`nehmen Sie die gleichnamige Datei aus Moodle.\n"
   ]
  },
  {
   "cell_type": "code",
   "execution_count": 8,
   "id": "e6687a95",
   "metadata": {},
   "outputs": [],
   "source": [
    "# 2.2.1"
   ]
  },
  {
   "cell_type": "code",
   "execution_count": 9,
   "id": "ea7dcff2",
   "metadata": {},
   "outputs": [],
   "source": [
    "# 2.2.2"
   ]
  },
  {
   "cell_type": "code",
   "execution_count": 10,
   "id": "fbbea954",
   "metadata": {},
   "outputs": [],
   "source": [
    "# 2.2.3"
   ]
  },
  {
   "cell_type": "markdown",
   "id": "cd47e6af",
   "metadata": {},
   "source": [
    "**Aufgabe 2.3**: Erzeugen Sie für beide Patient*innen je eine Instanz der Klasse `Case`. Einer der beiden Fälle bekommt den Report \"ohne Befund\" mit dem Datum 1.4.2005 sowie den Report \"Invasives Ductales Karzinom\" mit dem Datum 14.11.2021. Der andere Fall erhält den Report mit dem Schädelbasisbruch."
   ]
  },
  {
   "cell_type": "code",
   "execution_count": 11,
   "id": "7ae7c8b8",
   "metadata": {},
   "outputs": [],
   "source": [
    "# 2.3.1"
   ]
  },
  {
   "cell_type": "code",
   "execution_count": 12,
   "id": "142ab02c",
   "metadata": {},
   "outputs": [],
   "source": [
    "# 2.3.2"
   ]
  },
  {
   "cell_type": "markdown",
   "id": "a1387a64",
   "metadata": {},
   "source": [
    "**Aufgabe 2.4**: Iterieren Sie durch alle Befunde aller Fälle und geben Sie dabei jeweils den Patient*innennamen, den Befundtext sowie das Befunddatum aus. Sollte es sich um einen `CTReport` handeln, so geben Sie das erste, mittlere und letzte Bild in CT Stack aus, beim `PathologyReport` geben Sie folgende Teilregion des Whole Slide Image aus (Format ist x, y, Breite, Höhe, wobei sich x und y auf die obere linke Ecke beziehen): 1100, 1900, 400, 400"
   ]
  },
  {
   "cell_type": "code",
   "execution_count": 13,
   "id": "ca7c55a0",
   "metadata": {},
   "outputs": [],
   "source": [
    "# 2.4"
   ]
  }
 ],
 "metadata": {
  "kernelspec": {
   "display_name": "Python 3 (ipykernel)",
   "language": "python",
   "name": "python3"
  },
  "language_info": {
   "codemirror_mode": {
    "name": "ipython",
    "version": 3
   },
   "file_extension": ".py",
   "mimetype": "text/x-python",
   "name": "python",
   "nbconvert_exporter": "python",
   "pygments_lexer": "ipython3",
   "version": "3.9.9"
  }
 },
 "nbformat": 4,
 "nbformat_minor": 5
}
